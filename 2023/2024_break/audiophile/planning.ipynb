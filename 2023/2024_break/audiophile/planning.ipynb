{
 "cells": [
  {
   "cell_type": "code",
   "execution_count": 6,
   "metadata": {},
   "outputs": [],
   "source": [
    "### Planning\n",
    "import pedalboard as pb\n",
    "from pedalboard.io import AudioStream\n"
   ]
  },
  {
   "cell_type": "code",
   "execution_count": 8,
   "metadata": {},
   "outputs": [
    {
     "ename": "TypeError",
     "evalue": "__init__(): incompatible constructor arguments. The following argument types are supported:\n    1. pedalboard_native.io.AudioStream(input_device_name: str, output_device_name: str, plugins: Optional[pedalboard_native.utils.Chain] = None, sample_rate: Optional[float] = None, buffer_size: int = 512, allow_feedback: bool = False)\n\nInvoked with: ",
     "output_type": "error",
     "traceback": [
      "\u001b[1;31m---------------------------------------------------------------------------\u001b[0m",
      "\u001b[1;31mTypeError\u001b[0m                                 Traceback (most recent call last)",
      "Cell \u001b[1;32mIn[8], line 1\u001b[0m\n\u001b[1;32m----> 1\u001b[0m stream \u001b[38;5;241m=\u001b[39m \u001b[43mAudioStream\u001b[49m\u001b[43m(\u001b[49m\u001b[43m)\u001b[49m\n\u001b[0;32m      2\u001b[0m input_device_name \u001b[38;5;241m=\u001b[39m AudioStream\u001b[38;5;241m.\u001b[39minput_device_names\n\u001b[0;32m      3\u001b[0m \u001b[38;5;28mprint\u001b[39m(input_device_name)\n",
      "\u001b[1;31mTypeError\u001b[0m: __init__(): incompatible constructor arguments. The following argument types are supported:\n    1. pedalboard_native.io.AudioStream(input_device_name: str, output_device_name: str, plugins: Optional[pedalboard_native.utils.Chain] = None, sample_rate: Optional[float] = None, buffer_size: int = 512, allow_feedback: bool = False)\n\nInvoked with: "
     ]
    }
   ],
   "source": [
    "stream = AudioStream()\n",
    "input_device_name = AudioStream.input_device_names\n",
    "print(input_device_name)\n"
   ]
  }
 ],
 "metadata": {
  "kernelspec": {
   "display_name": "dev",
   "language": "python",
   "name": "python3"
  },
  "language_info": {
   "codemirror_mode": {
    "name": "ipython",
    "version": 3
   },
   "file_extension": ".py",
   "mimetype": "text/x-python",
   "name": "python",
   "nbconvert_exporter": "python",
   "pygments_lexer": "ipython3",
   "version": "3.11.2"
  }
 },
 "nbformat": 4,
 "nbformat_minor": 2
}
